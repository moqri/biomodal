{
 "cells": [
  {
   "cell_type": "code",
   "execution_count": 1,
   "id": "9356370d-5e72-41bb-8df4-b2f7525a7a78",
   "metadata": {},
   "outputs": [],
   "source": [
    "import pandas as pd\n",
    "import seaborn as sns\n",
    "def anti_trafo(x, adult_age=20):\n",
    "    y = np.where(\n",
    "        x < 0, (1 + adult_age) * np.exp(x) - 1, (1 + adult_age) * x + adult_age\n",
    "    )\n",
    "    return y"
   ]
  },
  {
   "cell_type": "code",
   "execution_count": 97,
   "id": "ebf25c20-7b2f-4678-90a8-3facd26a9c57",
   "metadata": {},
   "outputs": [
    {
     "name": "stdout",
     "output_type": "stream",
     "text": [
      "CPU times: user 34.6 s, sys: 3.01 s, total: 37.6 s\n",
      "Wall time: 37.9 s\n"
     ]
    },
    {
     "data": {
      "text/plain": [
       "(29372136, 8)"
      ]
     },
     "execution_count": 97,
     "metadata": {},
     "output_type": "execute_result"
    }
   ],
   "source": [
    "%%time\n",
    "df=pd.read_table('data/bio/merge.table',nrows=10**8)\n",
    "df.index=df['7012']\n",
    "df.index=df.index.rename('cpg')\n",
    "df.index=df.index.str[:-6]\n",
    "df=df.drop('7012',axis=1)\n",
    "df.columns=['7012']+list(df.columns)[:-1]\n",
    "df.shape"
   ]
  },
  {
   "cell_type": "code",
   "execution_count": 41,
   "id": "ecfae40e-4467-4428-bed6-c9133d6475df",
   "metadata": {},
   "outputs": [
    {
     "name": "stdout",
     "output_type": "stream",
     "text": [
      "CPU times: user 1min 54s, sys: 5.74 s, total: 2min\n",
      "Wall time: 2min\n"
     ]
    }
   ],
   "source": [
    "%%time\n",
    "df['chr']=df.index.str.split(':').str[0]\n",
    "df['pos']=df.index.str.split(':').str[1]"
   ]
  },
  {
   "cell_type": "code",
   "execution_count": 2,
   "id": "6d3269cd-41ac-4c69-a682-77c8b79e57ce",
   "metadata": {},
   "outputs": [
    {
     "name": "stdout",
     "output_type": "stream",
     "text": [
      "CPU times: user 25.4 s, sys: 2.85 s, total: 28.3 s\n",
      "Wall time: 28.4 s\n"
     ]
    },
    {
     "data": {
      "text/plain": [
       "(26943046, 2)"
      ]
     },
     "execution_count": 2,
     "metadata": {},
     "output_type": "execute_result"
    }
   ],
   "source": [
    "%%time\n",
    "tom=pd.read_table('/oak/stanford/scg/lab_mpsnyder/moqri/epi_deconv/data/tom/meth/unq/yo.meth',index_col=0,nrows=10**8)\n",
    "tom.shape"
   ]
  },
  {
   "cell_type": "code",
   "execution_count": 3,
   "id": "72380f85-74ed-4114-a4da-45cea5f25a40",
   "metadata": {},
   "outputs": [],
   "source": [
    "tom.columns=['y','o']"
   ]
  },
  {
   "cell_type": "code",
   "execution_count": 4,
   "id": "f10c2c59-5dbe-4e2f-8b06-5dddb1dc0c28",
   "metadata": {},
   "outputs": [
    {
     "name": "stdout",
     "output_type": "stream",
     "text": [
      "CPU times: user 1min 50s, sys: 6.36 s, total: 1min 57s\n",
      "Wall time: 1min 57s\n"
     ]
    }
   ],
   "source": [
    "%%time\n",
    "tom.index=tom.index.rename('cpg')\n",
    "tom.index=tom.index.str[:-6]\n",
    "tom['chr']=tom.index.str.split(':').str[0]\n",
    "tom['pos']=tom.index.str.split(':').str[1]"
   ]
  },
  {
   "cell_type": "code",
   "execution_count": 7,
   "id": "d1181037-160f-430e-87df-1110483b2e43",
   "metadata": {},
   "outputs": [
    {
     "name": "stdout",
     "output_type": "stream",
     "text": [
      "CPU times: user 8.48 s, sys: 1.15 s, total: 9.62 s\n",
      "Wall time: 9.77 s\n"
     ]
    }
   ],
   "source": [
    "%%time\n",
    "df=pd.read_table('/oak/stanford/scg/lab_mpsnyder/moqri/biomodal/data/bio/mergef.bed',nrows=10**8,sep=' ',header=None,usecols=[0,1,3])\n",
    "df.columns=['chr','pos','mike']"
   ]
  },
  {
   "cell_type": "code",
   "execution_count": 8,
   "id": "adf742ff-5b29-4753-b016-ec4c60e9e2e0",
   "metadata": {},
   "outputs": [],
   "source": [
    "t1=tom[tom['chr']=='chr1'].drop('chr',axis=1).copy()\n",
    "t1['pos']=t1['pos'].astype(int)\n",
    "d1=df[df['chr']=='chr1'].drop('chr',axis=1).copy()\n",
    "d1=d1.dropna().copy()\n",
    "d1['pos']=d1['pos'].astype(int)-1\n",
    "dg=t1.merge(d1,on='pos',how='inner')"
   ]
  },
  {
   "cell_type": "code",
   "execution_count": 26,
   "id": "fbe8f290-c87a-449a-a4ca-fe8f352d58f2",
   "metadata": {},
   "outputs": [
    {
     "data": {
      "text/plain": [
       "[Text(0, 0.5, 'DNA Methylation (mean adjusted)'),\n",
       " Text(0.5, 1.0, 'CD247 Methylaiton')]"
      ]
     },
     "execution_count": 26,
     "metadata": {},
     "output_type": "execute_result"
    },
    {
     "data": {
      "image/png": "[encoded data removed]",
      "text/plain": [
       "<Figure size 300x300 with 1 Axes>"
      ]
     },
     "metadata": {},
     "output_type": "display_data"
    }
   ],
   "source": [
    "pl=dg[dg['pos']>167439600].head(17).drop('pos',axis=1)\n",
    "pl=(pl.T-pl.T.mean()).T\n",
    "pl.columns=['Young\\n(<40)', 'Old\\n(>70)','Mike']\n",
    "sns.set(rc={'figure.figsize':(3,3)})\n",
    "g=sns.boxplot(data=pl)\n",
    "g.set(ylabel='DNA Methylation (mean adjusted)',title='CD247 Methylaiton')"
   ]
  },
  {
   "cell_type": "code",
   "execution_count": 27,
   "id": "ecf7bb40-eb4c-4292-9fa8-c2715277a7a1",
   "metadata": {},
   "outputs": [],
   "source": [
    "ch='chr10'\n",
    "t1=tom[tom['chr']==ch].drop('chr',axis=1).copy()\n",
    "t1['pos']=t1['pos'].astype(int)\n",
    "d1=df[df['chr']==ch].drop('chr',axis=1).copy()\n",
    "d1=d1.dropna().copy()\n",
    "d1['pos']=d1['pos'].astype(int)-1\n",
    "dg=t1.merge(d1,on='pos',how='inner')"
   ]
  },
  {
   "cell_type": "code",
   "execution_count": 32,
   "id": "6e2483a8-9cde-4782-ae5f-4d3c658e77c8",
   "metadata": {},
   "outputs": [],
   "source": [
    "beg,end=100562244,100563087\n",
    "pl=dg[(dg['pos']>=beg)&(dg['pos']<=end)].head(17).drop('pos',axis=1)\n",
    "pl=(pl.T-pl.T.mean()).T\n",
    "pl.columns=['Young\\n(<40)', 'Old\\n(>70)','Mike']"
   ]
  },
  {
   "cell_type": "code",
   "execution_count": 35,
   "id": "ec62197b-c759-49f0-a8de-2b292fcc947e",
   "metadata": {},
   "outputs": [
    {
     "data": {
      "text/plain": [
       "[Text(0, 0.5, 'DNA Methylation (mean adjusted)'),\n",
       " Text(0.5, 1.0, 'HIF1 Methylaiton')]"
      ]
     },
     "execution_count": 35,
     "metadata": {},
     "output_type": "execute_result"
    },
    {
     "data": {
      "image/png": "[encoded data removed]",
      "text/plain": [
       "<Figure size 300x300 with 1 Axes>"
      ]
     },
     "metadata": {},
     "output_type": "display_data"
    }
   ],
   "source": [
    "gene='HIF1'\n",
    "sns.set(rc={'figure.figsize':(3,3)})\n",
    "g=sns.boxplot(data=pl)\n",
    "g.set(ylabel='DNA Methylation (mean adjusted)',title=gene+' Methylaiton')"
   ]
  },
  {
   "cell_type": "code",
   "execution_count": 42,
   "id": "57ac12c4-2900-4ec8-95dc-854d25c3b1a8",
   "metadata": {},
   "outputs": [],
   "source": [
    "man=pd.read_table('data/ref/HM450.hg38.manifest.tsv',usecols=['Probe_ID','CpG_chrm','CpG_beg'],index_col='Probe_ID')\n",
    "man=man.dropna().copy()\n",
    "man.columns=['chr','beg']\n",
    "man['pos']=man['chr']+':'+(man['beg']+1).astype(int).astype(str)"
   ]
  },
  {
   "cell_type": "code",
   "execution_count": 47,
   "id": "968d4ff7-b977-490d-bd9c-bca617472397",
   "metadata": {},
   "outputs": [
    {
     "name": "stdout",
     "output_type": "stream",
     "text": [
      "CPU times: user 27.2 s, sys: 780 ms, total: 28 s\n",
      "Wall time: 27.5 s\n"
     ]
    }
   ],
   "source": [
    "%%time\n",
    "dg=man.merge(df,left_on='pos',right_index=True,how='inner')"
   ]
  },
  {
   "cell_type": "code",
   "execution_count": 84,
   "id": "4ded3050-2e0d-44d7-b504-6fa80f27e977",
   "metadata": {},
   "outputs": [
    {
     "name": "stdout",
     "output_type": "stream",
     "text": [
      "CPU times: user 12.3 s, sys: 365 ms, total: 12.6 s\n",
      "Wall time: 12.6 s\n"
     ]
    }
   ],
   "source": [
    "%%time\n",
    "from biolearn.data_library import DataLibrary\n",
    "data_source = DataLibrary().get(\"GSE41169\")\n",
    "data=data_source.load()\n",
    "m = data.dnam"
   ]
  },
  {
   "cell_type": "code",
   "execution_count": 85,
   "id": "1cbb1383-02f4-49c8-aaef-cb9f3a3d76a2",
   "metadata": {},
   "outputs": [],
   "source": [
    "age=data.metadata['age']\n",
    "age=age[age>=60]\n",
    "age=age[age<=68]\n",
    "ar=m[age.index].mean(1)"
   ]
  },
  {
   "cell_type": "code",
   "execution_count": 86,
   "id": "c2fbcdba-4cd2-45ce-907e-7dae9851fc31",
   "metadata": {},
   "outputs": [],
   "source": [
    "wg=dg[df.columns].mean(1)"
   ]
  },
  {
   "cell_type": "code",
   "execution_count": 87,
   "id": "ef7f3c22-9330-4884-9e29-e63e8d357e65",
   "metadata": {},
   "outputs": [
    {
     "data": {
      "text/plain": [
       "<Axes: >"
      ]
     },
     "execution_count": 87,
     "metadata": {},
     "output_type": "execute_result"
    },
    {
     "data": {
      "image/png": "[encoded data removed]",
      "text/plain": [
       "<Figure size 640x480 with 1 Axes>"
      ]
     },
     "metadata": {},
     "output_type": "display_data"
    }
   ],
   "source": [
    "ar.hist(bins=100)\n",
    "wg.hist(bins=100)"
   ]
  },
  {
   "cell_type": "code",
   "execution_count": null,
   "id": "6609663f-c9e0-48a8-a52f-62a3a500fbd0",
   "metadata": {},
   "outputs": [],
   "source": []
  }
 ],
 "metadata": {
  "kernelspec": {
   "display_name": "meth",
   "language": "python",
   "name": "meth"
  },
  "language_info": {
   "codemirror_mode": {
    "name": "ipython",
    "version": 3
   },
   "file_extension": ".py",
   "mimetype": "text/x-python",
   "name": "python",
   "nbconvert_exporter": "python",
   "pygments_lexer": "ipython3",
   "version": "3.10.9"
  }
 },
 "nbformat": 4,
 "nbformat_minor": 5
}
